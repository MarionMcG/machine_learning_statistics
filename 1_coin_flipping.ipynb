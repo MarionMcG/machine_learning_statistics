{
 "cells": [
  {
   "cell_type": "markdown",
   "metadata": {},
   "source": [
    "# Computing and Coin Flipping "
   ]
  },
  {
   "cell_type": "markdown",
   "metadata": {},
   "source": [
    "### Libraries and Formatting"
   ]
  },
  {
   "cell_type": "code",
   "execution_count": 67,
   "metadata": {},
   "outputs": [],
   "source": [
    "import numpy as np\n",
    "import scipy.stats as ss\n",
    "import matplotlib.pyplot as plt\n",
    "import seaborn as sns\n",
    "import math\n",
    "import itertools"
   ]
  },
  {
   "cell_type": "code",
   "execution_count": 68,
   "metadata": {},
   "outputs": [],
   "source": [
    "plt.rcParams['figure.figsize'] = (12,8)"
   ]
  },
  {
   "cell_type": "markdown",
   "metadata": {},
   "source": [
    "### What is the difference between Data and Information?\n",
    "- [Information Theory, Inference, and Learning Algorithms](https://www.inference.org.uk/itprnn/book.pdf) by [David J. C. MacKay](https://en.wikipedia.org/wiki/David_J._C._MacKay)"
   ]
  },
  {
   "cell_type": "markdown",
   "metadata": {},
   "source": [
    "### Binomial Distribution\n",
    "- [Website: Star Trek - Binomial Distribution](https://stattrek.com/probability-distributions/binomial.aspx)\n",
    "- [Website: NIST Engineering Statistics Handbook - Binomial Distribution](https://www.itl.nist.gov/div898/handbook/eda/section3/eda366i.htm)"
   ]
  },
  {
   "cell_type": "markdown",
   "metadata": {},
   "source": [
    "## Coin Flipping Simulation "
   ]
  },
  {
   "cell_type": "markdown",
   "metadata": {},
   "source": [
    "Flipping an unbiased coin, we'd expect the probability of heads to be 0.5, and the probability of tails to also be 0.5. \n",
    "\n",
    "We can use the binomial theorem to simulate flipping a coin. I looked at this simulations last semester, when completing a project on numpy.random. \n",
    "\n",
    "See [that project here](https://nbviewer.jupyter.org/github/MarionMcG/numpy.random/blob/master/numpy-random.ipynb)."
   ]
  },
  {
   "cell_type": "code",
   "execution_count": 13,
   "metadata": {},
   "outputs": [
    {
     "data": {
      "text/plain": [
       "1"
      ]
     },
     "execution_count": 13,
     "metadata": {},
     "output_type": "execute_result"
    }
   ],
   "source": [
    "# Flip a coin once, how many heads did you get?\n",
    "x = int(np.random.binomial(1, 0.5, 1))\n",
    "x"
   ]
  },
  {
   "cell_type": "code",
   "execution_count": 17,
   "metadata": {},
   "outputs": [
    {
     "data": {
      "text/plain": [
       "array([494, 512])"
      ]
     },
     "execution_count": 17,
     "metadata": {},
     "output_type": "execute_result"
    }
   ],
   "source": [
    "# Flip a coin 1000 times, twice, how many heads did you get?\n",
    "x =np.random.binomial(1000, 0.5, 2)\n",
    "x"
   ]
  },
  {
   "cell_type": "markdown",
   "metadata": {},
   "source": [
    "How likely are we to see a certain number of heads when flipping a coin n times?"
   ]
  },
  {
   "cell_type": "code",
   "execution_count": 20,
   "metadata": {},
   "outputs": [
    {
     "data": {
      "text/plain": [
       "0.010448505831422978"
      ]
     },
     "execution_count": 20,
     "metadata": {},
     "output_type": "execute_result"
    }
   ],
   "source": [
    "#Find the probabiliy of 521 if I flip the coin 1000 times\n",
    "ss.binom.pmf(521, 1000, 0.5)"
   ]
  },
  {
   "cell_type": "markdown",
   "metadata": {},
   "source": [
    "How many different ways can I get 521 heads if I flip a coin 1000 times??"
   ]
  },
  {
   "cell_type": "code",
   "execution_count": 28,
   "metadata": {},
   "outputs": [
    {
     "data": {
      "image/png": "[encoded data removed]",
      "text/plain": [
       "<Figure size 864x576 with 1 Axes>"
      ]
     },
     "metadata": {},
     "output_type": "display_data"
    }
   ],
   "source": [
    "x = np.random.binomial(1000, 0.5, 1000)\n",
    "sns.distplot(x);"
   ]
  },
  {
   "cell_type": "markdown",
   "metadata": {},
   "source": [
    "As the number of trials increases the distribution tends to be normally distributed. Notice how my mean appears to be 500, and 99.7% of data is between 450 and 550. The summary statistics backs this up, but despite these results the data is not perfectly normally distributed."
   ]
  },
  {
   "cell_type": "code",
   "execution_count": 29,
   "metadata": {},
   "outputs": [
    {
     "data": {
      "text/plain": [
       "500.353"
      ]
     },
     "execution_count": 29,
     "metadata": {},
     "output_type": "execute_result"
    }
   ],
   "source": [
    "np.mean(x)"
   ]
  },
  {
   "cell_type": "code",
   "execution_count": 32,
   "metadata": {},
   "outputs": [
    {
     "data": {
      "text/plain": [
       "46.42914514612562"
      ]
     },
     "execution_count": 32,
     "metadata": {},
     "output_type": "execute_result"
    }
   ],
   "source": [
    "y = np.std(x)\n",
    "y*3"
   ]
  },
  {
   "cell_type": "markdown",
   "metadata": {},
   "source": [
    "What about an unfair or biased coin?"
   ]
  },
  {
   "cell_type": "code",
   "execution_count": 33,
   "metadata": {},
   "outputs": [],
   "source": [
    "ax = np.random.binomial(10, 0.2, 10)"
   ]
  },
  {
   "cell_type": "code",
   "execution_count": 35,
   "metadata": {},
   "outputs": [
    {
     "data": {
      "text/plain": [
       "array([1, 3, 4, 0, 0, 3, 4, 2, 1, 3])"
      ]
     },
     "execution_count": 35,
     "metadata": {},
     "output_type": "execute_result"
    }
   ],
   "source": [
    "ax"
   ]
  },
  {
   "cell_type": "markdown",
   "metadata": {},
   "source": [
    "So let's say I flip my unfair coin, with p = 0.3, and my results are as follows:\n",
    "\n",
    "#### H H T T H H H T T T"
   ]
  },
  {
   "cell_type": "markdown",
   "metadata": {},
   "source": [
    "We're assuming that one flip has no affect on the next flip. The events are independent."
   ]
  },
  {
   "cell_type": "code",
   "execution_count": 37,
   "metadata": {},
   "outputs": [
    {
     "data": {
      "text/plain": [
       "0.0004084101"
      ]
     },
     "execution_count": 37,
     "metadata": {},
     "output_type": "execute_result"
    }
   ],
   "source": [
    "#The probability of getting 5 heads in 10 flips, in this order\n",
    "(0.3)*(0.3)*(0.7)*(0.7)*(0.3)*(0.3)*(0.3)*(0.7)*(0.7)*(0.7)"
   ]
  },
  {
   "cell_type": "markdown",
   "metadata": {},
   "source": [
    "In general, there's more than one way to get 5 heads in 10 flips of a coin. We can use the Binomial Distribution Formula to calculate the probability of getting 5 heads in any order."
   ]
  },
  {
   "cell_type": "markdown",
   "metadata": {},
   "source": [
    "![Binomial Disribution Formula](img/bin_dist.png)"
   ]
  },
  {
   "cell_type": "markdown",
   "metadata": {},
   "source": [
    "Formula (in words): (10 choose 5) x p^5 x (1-p)^5"
   ]
  },
  {
   "cell_type": "code",
   "execution_count": 38,
   "metadata": {},
   "outputs": [],
   "source": [
    "nflips = 10\n",
    "p = 0.3"
   ]
  },
  {
   "cell_type": "code",
   "execution_count": 40,
   "metadata": {},
   "outputs": [],
   "source": [
    "#Probability of getting 5 flips in each case\n",
    "d = [ss.binom.pmf(i, nflips, p) for i in range (nflips+1)]"
   ]
  },
  {
   "cell_type": "code",
   "execution_count": 41,
   "metadata": {},
   "outputs": [
    {
     "data": {
      "text/plain": [
       "[0.028247524900000005,\n",
       " 0.12106082100000018,\n",
       " 0.2334744405,\n",
       " 0.26682793200000016,\n",
       " 0.20012094900000013,\n",
       " 0.10291934520000007,\n",
       " 0.03675690899999999,\n",
       " 0.009001692000000002,\n",
       " 0.0014467004999999982,\n",
       " 0.00013778100000000015,\n",
       " 5.904899999999995e-06]"
      ]
     },
     "execution_count": 41,
     "metadata": {},
     "output_type": "execute_result"
    }
   ],
   "source": [
    "d"
   ]
  },
  {
   "cell_type": "markdown",
   "metadata": {},
   "source": [
    "Notice that the probability of getting 1 head is .028, the probability of getting two heads is 0.121 etc."
   ]
  },
  {
   "cell_type": "markdown",
   "metadata": {},
   "source": [
    "Even though the chances, with probability of getting head = 0.3 during 10 flips, are more likely you'd get ten tails. "
   ]
  },
  {
   "cell_type": "code",
   "execution_count": 58,
   "metadata": {},
   "outputs": [
    {
     "data": {
      "text/plain": [
       "0.02824752489999998"
      ]
     },
     "execution_count": 58,
     "metadata": {},
     "output_type": "execute_result"
    }
   ],
   "source": [
    "(1-0.3)**10"
   ]
  },
  {
   "cell_type": "markdown",
   "metadata": {},
   "source": [
    "However because there's more than one way to get three heads, the chances of that happening is more than the probability of getting ten tails. "
   ]
  },
  {
   "cell_type": "markdown",
   "metadata": {},
   "source": [
    "### n CHOOSE r"
   ]
  },
  {
   "cell_type": "code",
   "execution_count": 47,
   "metadata": {},
   "outputs": [],
   "source": [
    "n = 10 #10flips\n",
    "r = 6 #6heads"
   ]
  },
  {
   "cell_type": "code",
   "execution_count": 49,
   "metadata": {},
   "outputs": [],
   "source": [
    "choose = lambda x, y: math.factorial(x)/(math.factorial(y)*math.factorial(x-y))"
   ]
  },
  {
   "cell_type": "code",
   "execution_count": 51,
   "metadata": {},
   "outputs": [
    {
     "data": {
      "text/plain": [
       "210.0"
      ]
     },
     "execution_count": 51,
     "metadata": {},
     "output_type": "execute_result"
    }
   ],
   "source": [
    "#Number of ways to get 6 heads from 10 flips\n",
    "choose(n,r)"
   ]
  },
  {
   "cell_type": "markdown",
   "metadata": {},
   "source": [
    "Remember there's only one way to get ten heads.."
   ]
  },
  {
   "cell_type": "code",
   "execution_count": 54,
   "metadata": {},
   "outputs": [
    {
     "data": {
      "text/plain": [
       "1.0"
      ]
     },
     "execution_count": 54,
     "metadata": {},
     "output_type": "execute_result"
    }
   ],
   "source": [
    "choose(10, 10)"
   ]
  },
  {
   "cell_type": "markdown",
   "metadata": {},
   "source": [
    "or tails"
   ]
  },
  {
   "cell_type": "code",
   "execution_count": 56,
   "metadata": {},
   "outputs": [
    {
     "data": {
      "text/plain": [
       "1.0"
      ]
     },
     "execution_count": 56,
     "metadata": {},
     "output_type": "execute_result"
    }
   ],
   "source": [
    "choose(10, 0)"
   ]
  },
  {
   "cell_type": "markdown",
   "metadata": {},
   "source": [
    "### What's this got to do with Computing?"
   ]
  },
  {
   "cell_type": "markdown",
   "metadata": {},
   "source": [
    "Bits and Bytes"
   ]
  },
  {
   "cell_type": "code",
   "execution_count": 65,
   "metadata": {},
   "outputs": [
    {
     "data": {
      "text/plain": [
       "['00000000',\n",
       " '00000001',\n",
       " '00000010',\n",
       " '00000011',\n",
       " '00000100',\n",
       " '00000101',\n",
       " '00000110',\n",
       " '00000111',\n",
       " '00001000',\n",
       " '00001001',\n",
       " '00001010',\n",
       " '00001011',\n",
       " '00001100',\n",
       " '00001101',\n",
       " '00001110',\n",
       " '00001111',\n",
       " '00010000',\n",
       " '00010001',\n",
       " '00010010',\n",
       " '00010011',\n",
       " '00010100',\n",
       " '00010101',\n",
       " '00010110',\n",
       " '00010111',\n",
       " '00011000',\n",
       " '00011001',\n",
       " '00011010',\n",
       " '00011011',\n",
       " '00011100',\n",
       " '00011101',\n",
       " '00011110',\n",
       " '00011111',\n",
       " '00100000',\n",
       " '00100001',\n",
       " '00100010',\n",
       " '00100011',\n",
       " '00100100',\n",
       " '00100101',\n",
       " '00100110',\n",
       " '00100111',\n",
       " '00101000',\n",
       " '00101001',\n",
       " '00101010',\n",
       " '00101011',\n",
       " '00101100',\n",
       " '00101101',\n",
       " '00101110',\n",
       " '00101111',\n",
       " '00110000',\n",
       " '00110001',\n",
       " '00110010',\n",
       " '00110011',\n",
       " '00110100',\n",
       " '00110101',\n",
       " '00110110',\n",
       " '00110111',\n",
       " '00111000',\n",
       " '00111001',\n",
       " '00111010',\n",
       " '00111011',\n",
       " '00111100',\n",
       " '00111101',\n",
       " '00111110',\n",
       " '00111111',\n",
       " '01000000',\n",
       " '01000001',\n",
       " '01000010',\n",
       " '01000011',\n",
       " '01000100',\n",
       " '01000101',\n",
       " '01000110',\n",
       " '01000111',\n",
       " '01001000',\n",
       " '01001001',\n",
       " '01001010',\n",
       " '01001011',\n",
       " '01001100',\n",
       " '01001101',\n",
       " '01001110',\n",
       " '01001111',\n",
       " '01010000',\n",
       " '01010001',\n",
       " '01010010',\n",
       " '01010011',\n",
       " '01010100',\n",
       " '01010101',\n",
       " '01010110',\n",
       " '01010111',\n",
       " '01011000',\n",
       " '01011001',\n",
       " '01011010',\n",
       " '01011011',\n",
       " '01011100',\n",
       " '01011101',\n",
       " '01011110',\n",
       " '01011111',\n",
       " '01100000',\n",
       " '01100001',\n",
       " '01100010',\n",
       " '01100011',\n",
       " '01100100',\n",
       " '01100101',\n",
       " '01100110',\n",
       " '01100111',\n",
       " '01101000',\n",
       " '01101001',\n",
       " '01101010',\n",
       " '01101011',\n",
       " '01101100',\n",
       " '01101101',\n",
       " '01101110',\n",
       " '01101111',\n",
       " '01110000',\n",
       " '01110001',\n",
       " '01110010',\n",
       " '01110011',\n",
       " '01110100',\n",
       " '01110101',\n",
       " '01110110',\n",
       " '01110111',\n",
       " '01111000',\n",
       " '01111001',\n",
       " '01111010',\n",
       " '01111011',\n",
       " '01111100',\n",
       " '01111101',\n",
       " '01111110',\n",
       " '01111111',\n",
       " '10000000',\n",
       " '10000001',\n",
       " '10000010',\n",
       " '10000011',\n",
       " '10000100',\n",
       " '10000101',\n",
       " '10000110',\n",
       " '10000111',\n",
       " '10001000',\n",
       " '10001001',\n",
       " '10001010',\n",
       " '10001011',\n",
       " '10001100',\n",
       " '10001101',\n",
       " '10001110',\n",
       " '10001111',\n",
       " '10010000',\n",
       " '10010001',\n",
       " '10010010',\n",
       " '10010011',\n",
       " '10010100',\n",
       " '10010101',\n",
       " '10010110',\n",
       " '10010111',\n",
       " '10011000',\n",
       " '10011001',\n",
       " '10011010',\n",
       " '10011011',\n",
       " '10011100',\n",
       " '10011101',\n",
       " '10011110',\n",
       " '10011111',\n",
       " '10100000',\n",
       " '10100001',\n",
       " '10100010',\n",
       " '10100011',\n",
       " '10100100',\n",
       " '10100101',\n",
       " '10100110',\n",
       " '10100111',\n",
       " '10101000',\n",
       " '10101001',\n",
       " '10101010',\n",
       " '10101011',\n",
       " '10101100',\n",
       " '10101101',\n",
       " '10101110',\n",
       " '10101111',\n",
       " '10110000',\n",
       " '10110001',\n",
       " '10110010',\n",
       " '10110011',\n",
       " '10110100',\n",
       " '10110101',\n",
       " '10110110',\n",
       " '10110111',\n",
       " '10111000',\n",
       " '10111001',\n",
       " '10111010',\n",
       " '10111011',\n",
       " '10111100',\n",
       " '10111101',\n",
       " '10111110',\n",
       " '10111111',\n",
       " '11000000',\n",
       " '11000001',\n",
       " '11000010',\n",
       " '11000011',\n",
       " '11000100',\n",
       " '11000101',\n",
       " '11000110',\n",
       " '11000111',\n",
       " '11001000',\n",
       " '11001001',\n",
       " '11001010',\n",
       " '11001011',\n",
       " '11001100',\n",
       " '11001101',\n",
       " '11001110',\n",
       " '11001111',\n",
       " '11010000',\n",
       " '11010001',\n",
       " '11010010',\n",
       " '11010011',\n",
       " '11010100',\n",
       " '11010101',\n",
       " '11010110',\n",
       " '11010111',\n",
       " '11011000',\n",
       " '11011001',\n",
       " '11011010',\n",
       " '11011011',\n",
       " '11011100',\n",
       " '11011101',\n",
       " '11011110',\n",
       " '11011111',\n",
       " '11100000',\n",
       " '11100001',\n",
       " '11100010',\n",
       " '11100011',\n",
       " '11100100',\n",
       " '11100101',\n",
       " '11100110',\n",
       " '11100111',\n",
       " '11101000',\n",
       " '11101001',\n",
       " '11101010',\n",
       " '11101011',\n",
       " '11101100',\n",
       " '11101101',\n",
       " '11101110',\n",
       " '11101111',\n",
       " '11110000',\n",
       " '11110001',\n",
       " '11110010',\n",
       " '11110011',\n",
       " '11110100',\n",
       " '11110101',\n",
       " '11110110',\n",
       " '11110111',\n",
       " '11111000',\n",
       " '11111001',\n",
       " '11111010',\n",
       " '11111011',\n",
       " '11111100',\n",
       " '11111101',\n",
       " '11111110',\n",
       " '11111111']"
      ]
     },
     "execution_count": 65,
     "metadata": {},
     "output_type": "execute_result"
    }
   ],
   "source": [
    "[\"\".join(seq) for seq in itertools.product(\"01\", repeat =8)]"
   ]
  },
  {
   "cell_type": "markdown",
   "metadata": {},
   "source": [
    "MacKay says there's more information in the flip of a fair coin, than a biased one, as there's more randomness in its outcome. When he generate sets, they're deterministic. And there's less information in those sets as a result. "
   ]
  }
 ],
 "metadata": {
  "kernelspec": {
   "display_name": "Python 3",
   "language": "python",
   "name": "python3"
  },
  "language_info": {
   "codemirror_mode": {
    "name": "ipython",
    "version": 3
   },
   "file_extension": ".py",
   "mimetype": "text/x-python",
   "name": "python",
   "nbconvert_exporter": "python",
   "pygments_lexer": "ipython3",
   "version": "3.6.5"
  }
 },
 "nbformat": 4,
 "nbformat_minor": 2
}
