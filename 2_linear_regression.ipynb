{
 "cells": [
  {
   "cell_type": "markdown",
   "metadata": {},
   "source": [
    "# Week Two - Machine Learning & Statistics"
   ]
  },
  {
   "cell_type": "markdown",
   "metadata": {},
   "source": [
    "### Libraries"
   ]
  },
  {
   "cell_type": "code",
   "execution_count": 2,
   "metadata": {},
   "outputs": [],
   "source": [
    "import numpy as np\n",
    "import matplotlib.pyplot as plt\n",
    "import scipy.stats as ss\n",
    "import seaborn as sns`"
   ]
  },
  {
   "cell_type": "markdown",
   "metadata": {},
   "source": [
    "## Square Root function"
   ]
  },
  {
   "cell_type": "markdown",
   "metadata": {},
   "source": [
    "Function to find square root of n: \n",
    "- Choose a number, x, less than n\n",
    "- Calculate x$^2$ \n",
    "- If x$^2$ < n, choose a larger x\n",
    "- If x$^2$ > n, choose a smaller x\n",
    "- Stop when x$^2$ = n"
   ]
  },
  {
   "cell_type": "code",
   "execution_count": 63,
   "metadata": {},
   "outputs": [],
   "source": [
    "def sq_root(n):\n",
    "    # for all positive whole numbers less than n\n",
    "    for i in range (n):\n",
    "        #calculate the square until it's the same as n\n",
    "        if i**2 == n:\n",
    "            #return the root\n",
    "            return(i)\n",
    "    #otherwise my n is not a square number and this function cannot return a solution\n",
    "    else:\n",
    "        print('Not a square number')\n",
    "        "
   ]
  },
  {
   "cell_type": "code",
   "execution_count": 64,
   "metadata": {},
   "outputs": [
    {
     "data": {
      "text/plain": [
       "4"
      ]
     },
     "execution_count": 64,
     "metadata": {},
     "output_type": "execute_result"
    }
   ],
   "source": [
    "sq_root(16)"
   ]
  },
  {
   "cell_type": "code",
   "execution_count": 65,
   "metadata": {},
   "outputs": [
    {
     "name": "stdout",
     "output_type": "stream",
     "text": [
      "Not a square number\n"
     ]
    }
   ],
   "source": [
    "sq_root(17)"
   ]
  },
  {
   "cell_type": "markdown",
   "metadata": {},
   "source": [
    "The function I've written only calculates the square roots of square numbers, because it is looping through the natural numbers rather than floating numbers. \n",
    "\n",
    "Now I'm going to write a function that gives a better approximation for square roots of all natural numbers. "
   ]
  },
  {
   "cell_type": "code",
   "execution_count": 66,
   "metadata": {},
   "outputs": [],
   "source": [
    "# Function adapted from https://tour.golang.org/flowcontrol/8\n",
    "\n",
    "def square_root(x):\n",
    "    #Initial guess\n",
    "    z = 1.0\n",
    "    #Keep guessing to get a better approximation of x\n",
    "    #until you are within two decimals places \n",
    "    while abs(z*z-x)>=0.01:\n",
    "        #Get  a better approximation of the square root\n",
    "        z -=(z*z-x)/(2*z)\n",
    "    #Return z\n",
    "    return z"
   ]
  },
  {
   "cell_type": "code",
   "execution_count": 67,
   "metadata": {},
   "outputs": [
    {
     "data": {
      "text/plain": [
       "3.872983698008724"
      ]
     },
     "execution_count": 67,
     "metadata": {},
     "output_type": "execute_result"
    }
   ],
   "source": [
    "square_root(15)"
   ]
  },
  {
   "cell_type": "markdown",
   "metadata": {},
   "source": [
    "### Newton's Method"
   ]
  },
  {
   "cell_type": "markdown",
   "metadata": {},
   "source": [
    "[Newton's Method - Wikipedia page](https://en.wikipedia.org/wiki/Newton%27s_method)"
   ]
  },
  {
   "cell_type": "markdown",
   "metadata": {},
   "source": [
    "Newton's method uses differentiation to find an approximation for the square root. If we look at the formula we adapted: \n",
    "\n",
    "$ z = z - (z^2-x)/(2z)$"
   ]
  },
  {
   "cell_type": "markdown",
   "metadata": {},
   "source": [
    "In the numerator I have $z^2 - x$, the difference between the square and my input, and in the denominator, I have the derivative of the numerator. "
   ]
  },
  {
   "cell_type": "markdown",
   "metadata": {},
   "source": [
    "What is happening here?? To get a better approximation $z$, I'm subtracting $(z^2-x)/(2z)$ from my current approximation. "
   ]
  },
  {
   "cell_type": "markdown",
   "metadata": {},
   "source": [
    "## Two Variables in PyPlot"
   ]
  },
  {
   "cell_type": "code",
   "execution_count": 77,
   "metadata": {},
   "outputs": [
    {
     "data": {
      "image/png": "[encoded data removed]",
      "text/plain": [
       "<Figure size 432x288 with 1 Axes>"
      ]
     },
     "metadata": {},
     "output_type": "display_data"
    }
   ],
   "source": [
    "#Input two arrays, xvalues and yvalues and display as points with x\n",
    "plt.plot([1, 2, 3, 4], [5, 10, 15, 20], 'x')\n",
    "#Add labels\n",
    "plt.ylabel('Frequency')\n",
    "plt.xlabel('Numbers');"
   ]
  },
  {
   "cell_type": "code",
   "execution_count": 91,
   "metadata": {},
   "outputs": [],
   "source": [
    "#999 numbers between 0 and 100 that are evenly spaced out\n",
    "x = np.linspace(0, 100, 999)\n",
    "y = x*x*x\n",
    "z = x*x"
   ]
  },
  {
   "cell_type": "code",
   "execution_count": 92,
   "metadata": {},
   "outputs": [
    {
     "data": {
      "image/png": "[encoded data removed]",
      "text/plain": [
       "<Figure size 432x288 with 1 Axes>"
      ]
     },
     "metadata": {},
     "output_type": "display_data"
    }
   ],
   "source": [
    "plt.plot(x, y)\n",
    "plt.plot(x, z);"
   ]
  },
  {
   "cell_type": "code",
   "execution_count": 133,
   "metadata": {},
   "outputs": [
    {
     "data": {
      "image/png": "[encoded data removed]",
      "text/plain": [
       "<Figure size 432x288 with 1 Axes>"
      ]
     },
     "metadata": {},
     "output_type": "display_data"
    }
   ],
   "source": [
    "#Plotting an exponential function\n",
    "y1 = np.exp(x)\n",
    "plt.plot(x, y1);"
   ]
  },
  {
   "cell_type": "code",
   "execution_count": 132,
   "metadata": {},
   "outputs": [
    {
     "data": {
      "image/png": "[encoded data removed]",
      "text/plain": [
       "<Figure size 432x288 with 1 Axes>"
      ]
     },
     "metadata": {},
     "output_type": "display_data"
    }
   ],
   "source": [
    "y2 = 1/y1\n",
    "plt.plot(x, y2);"
   ]
  },
  {
   "cell_type": "markdown",
   "metadata": {},
   "source": [
    "## Simple Linear Regression"
   ]
  },
  {
   "cell_type": "markdown",
   "metadata": {},
   "source": [
    "Introducing simple linear regression using machine learning. We have used graphs to model linear and other functions. Linear Regression is working backwords from data to find the function that best represents the data. "
   ]
  },
  {
   "cell_type": "code",
   "execution_count": 111,
   "metadata": {},
   "outputs": [],
   "source": [
    "#Generate random data\n",
    "w = np.arange(0.0, 21.0, 1.0)\n",
    "d = 5.0 * w + 10.0 + np.random.normal(0.0, 5.0, w.size)"
   ]
  },
  {
   "cell_type": "code",
   "execution_count": 115,
   "metadata": {},
   "outputs": [
    {
     "data": {
      "image/png": "[encoded data removed]",
      "text/plain": [
       "<Figure size 432x288 with 1 Axes>"
      ]
     },
     "metadata": {},
     "output_type": "display_data"
    }
   ],
   "source": [
    "plt.plot(w, d, 'k.')\n",
    "plt.xlabel('Weight')\n",
    "plt.ylabel('Distance');"
   ]
  },
  {
   "cell_type": "code",
   "execution_count": 138,
   "metadata": {},
   "outputs": [
    {
     "data": {
      "image/png": "[encoded data removed]",
      "text/plain": [
       "<Figure size 432x288 with 1 Axes>"
      ]
     },
     "metadata": {},
     "output_type": "display_data"
    }
   ],
   "source": [
    "plt.plot(w, d, 'k.')\n",
    "plt.xlabel('Weight')\n",
    "plt.ylabel('Distance')\n",
    "x = np.arange(20)\n",
    "y1 = 5*x +10\n",
    "y2 = 5.5*x +5\n",
    "y3 = 4.5*x +15\n",
    "plt.plot(x, y1, label = '5x +10')\n",
    "plt.plot(x, y2, label = '5.5x +5')\n",
    "plt.plot(x, y3, label = '4.5x +15')\n",
    "plt.legend()\n",
    "plt.title('Which line is the best fit?');"
   ]
  },
  {
   "cell_type": "markdown",
   "metadata": {},
   "source": [
    "A linear function has equation $y = mx+c$. To fit a line to this data, we want to find $m$ (slope) and $c$ (y-intercept).\n",
    "\n",
    "Machine Learning uses analytics to find the line of best fit. The best line is the one that minimises the following calculated value."
   ]
  },
  {
   "cell_type": "markdown",
   "metadata": {},
   "source": [
    "$$ Cost (m,c) = \\sum_{i} ( yi − mxi − c) ^2$$"
   ]
  },
  {
   "cell_type": "markdown",
   "metadata": {},
   "source": [
    "Given the equation of a straight line is $y = mx+c$, a perfect line will have sum of zero. This is because $y-mx-c$ should equal $0$ for all $x$ and $y$ coordinates. We are modelling lines that are not perfectly straight, so we're looking for the $m$ and $c$ values that sum to the smallest possible value. \n",
    "\n",
    "Below is the long way to calculate  $m$ and $c$ "
   ]
  },
  {
   "cell_type": "code",
   "execution_count": 135,
   "metadata": {},
   "outputs": [
    {
     "name": "stdout",
     "output_type": "stream",
     "text": [
      "m is 4.790738 and c is 13.508534.\n"
     ]
    }
   ],
   "source": [
    "# Calculate the best values for m and c.\n",
    "\n",
    "# First calculate the means (a.k.a. averages) of w and d.\n",
    "w_avg = np.mean(w)\n",
    "d_avg = np.mean(d)\n",
    "\n",
    "# Subtract means from w and d.\n",
    "w_zero = w - w_avg\n",
    "d_zero = d - d_avg\n",
    "\n",
    "# The best m is found by the following calculation.\n",
    "m = np.sum(w_zero * d_zero) / np.sum(w_zero * w_zero)\n",
    "# Use m from above to calculate the best c.\n",
    "c = d_avg - m * w_avg\n",
    "\n",
    "print(\"m is %8.6f and c is %6.6f.\" % (m, c))"
   ]
  },
  {
   "cell_type": "markdown",
   "metadata": {},
   "source": [
    "Alternatively, use numpy.polyfit"
   ]
  },
  {
   "cell_type": "code",
   "execution_count": 153,
   "metadata": {},
   "outputs": [
    {
     "name": "stdout",
     "output_type": "stream",
     "text": [
      "m is 4.790738 and c is 13.508534.\n"
     ]
    }
   ],
   "source": [
    "[m, c] = np.polyfit(w, d, 1)\n",
    "print(\"m is %8.6f and c is %6.6f.\" % (m, c))"
   ]
  },
  {
   "cell_type": "code",
   "execution_count": 152,
   "metadata": {},
   "outputs": [
    {
     "data": {
      "image/png": "[encoded data removed]",
      "text/plain": [
       "<Figure size 432x288 with 1 Axes>"
      ]
     },
     "metadata": {},
     "output_type": "display_data"
    }
   ],
   "source": [
    "# Plot the best fit line.\n",
    "plt.plot(w, d, 'k.', label='Original data')\n",
    "plt.plot(w, m * w + c, 'b-', label='Best fit line')\n",
    "\n",
    "# Add axis labels and a legend.\n",
    "plt.xlabel('Weight')\n",
    "plt.ylabel('Distance')\n",
    "plt.legend()\n",
    "\n",
    "# Show the plot.\n",
    "plt.show()"
   ]
  }
 ],
 "metadata": {
  "kernelspec": {
   "display_name": "Python 3",
   "language": "python",
   "name": "python3"
  },
  "language_info": {
   "codemirror_mode": {
    "name": "ipython",
    "version": 3
   },
   "file_extension": ".py",
   "mimetype": "text/x-python",
   "name": "python",
   "nbconvert_exporter": "python",
   "pygments_lexer": "ipython3",
   "version": "3.6.5"
  }
 },
 "nbformat": 4,
 "nbformat_minor": 2
}
